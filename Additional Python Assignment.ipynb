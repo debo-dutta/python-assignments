{
 "cells": [
  {
   "cell_type": "markdown",
   "metadata": {},
   "source": [
    "# Assume Data wherever needed/necessary"
   ]
  },
  {
   "cell_type": "markdown",
   "metadata": {},
   "source": [
    "### Loop Statements"
   ]
  },
  {
   "cell_type": "code",
   "execution_count": null,
   "metadata": {},
   "outputs": [],
   "source": [
    "# WAP stands for Write A Program"
   ]
  },
  {
   "cell_type": "code",
   "execution_count": 201,
   "metadata": {},
   "outputs": [
    {
     "name": "stdout",
     "output_type": "stream",
     "text": [
      "1\n",
      "2\n",
      "3\n"
     ]
    }
   ],
   "source": [
    "#L1 E\n",
    "# WAP to print all elements of a list using a for loop. \n",
    "# Take the elements of the list from the user.\n",
    "\n",
    "# For e.g. Input: l = [3,'Hi',67,0,12,0,8]\n",
    "#         Output: 3\n",
    "#                 'Hi'\n",
    "#                 67\n",
    "#                 0\n",
    "#                 12\n",
    "#                 0\n",
    "#                 8\n",
    "\n",
    "n = int(input(\"enter the no of elements\"))\n",
    "\n",
    "list1 = []\n",
    "for i in range(0,n):\n",
    "    element = input('entre the element')\n",
    "    list1.append(element)\n",
    "for i in list1:\n",
    "    print(i)\n",
    "\n",
    "\n",
    "\n"
   ]
  },
  {
   "cell_type": "code",
   "execution_count": 5,
   "metadata": {},
   "outputs": [
    {
     "name": "stdout",
     "output_type": "stream",
     "text": [
      "Element not found\n"
     ]
    }
   ],
   "source": [
    "#L2 M\n",
    "# WAP to take inputs from user to make a list. Length of the list has to be taken from the user.\n",
    "# Again take one input from user and search it in the list and delete that element, if found.\n",
    "# If not found, print \"Element not present\".\n",
    "\n",
    "# For e.g. Input: len_list = 5\n",
    "#                 list = [\"a\", \"b\", \"y\", \"e\", \"p\"]\n",
    "#                 search_element = \"g\"\n",
    "#                     Output: \"Element not found\"\n",
    "#                 search_element = \"e\"\n",
    "#                     Output: [\"a\", \"b\", \"y\", \"p\"]\n",
    "\n",
    "len_list = input(\"Enter the length:\")\n",
    "list_inp = []\n",
    "for i in range(int(len_list)):\n",
    "    list_inp.append(input('enter the list item'))\n",
    "search_element = input(\"enter the search element\")\n",
    "\n",
    "if search_element in list_inp:\n",
    "    list_inp.remove(search_element)\n",
    "    print(list_inp)\n",
    "else:\n",
    "    print(\"Element not found\")"
   ]
  },
  {
   "cell_type": "code",
   "execution_count": 205,
   "metadata": {},
   "outputs": [
    {
     "name": "stdout",
     "output_type": "stream",
     "text": [
      "Grade F\n",
      "Grade F\n",
      "Grade B\n"
     ]
    }
   ],
   "source": [
    "#L3 EM\n",
    "# Make a grading system for a school based on the marks of the students using the following criteria.\n",
    "# Marks 0 - 40 : Grade F\n",
    "#      41 - 50 : Grade E\n",
    "#      51 - 70 : Grade D\n",
    "#      71 - 80 : Grade C\n",
    "#      81 - 90 : Grade B\n",
    "#      91 - 100: Grade A\n",
    "# Continuously take marks as input from the user and print the grade. \n",
    "# The user can enter \"Stop\" to stop the loop.\n",
    "\n",
    "score = 0\n",
    "while score != 'Stop':\n",
    "     score = input(\"Enter the score\")\n",
    "     if score == 'Stop':\n",
    "          break\n",
    "     elif int(score) >= 0 and int(score) <= 40:\n",
    "          print(\"Grade F\")\n",
    "     elif int(score) >= 41 and int(score) <= 50:\n",
    "          print(\"Grade E\")\n",
    "     elif int(score) >= 51 and int(score) <= 70:\n",
    "          print(\"Grade D\")\n",
    "     elif int(score) >= 71 and int(score) <= 80:\n",
    "          print(\"Grade C\")\n",
    "     elif int(score) >= 81 and int(score) <= 90:\n",
    "          print(\"Grade B\")\n",
    "     elif int(score) >= 91 and int(score) <= 100:\n",
    "          print(\"Grade A\")\n",
    "     else:\n",
    "          print(\"Invalid input\")\n",
    "\n",
    "\n",
    "\n",
    "\n",
    "\n",
    "\n"
   ]
  },
  {
   "cell_type": "code",
   "execution_count": 25,
   "metadata": {},
   "outputs": [
    {
     "name": "stdout",
     "output_type": "stream",
     "text": [
      "[1, 8, 27, 64, 125, 216]\n"
     ]
    }
   ],
   "source": [
    "#L4 E\n",
    "# WAP to save the cube of all numbers from 1 to a number n in list, \n",
    "# where n is taken as input from the user.\n",
    "\n",
    "# For e.g. Input: 5\n",
    "#         Output: [1, 8, 27, 64, 125]  #Cube of numbers from 1 to 5 where 5 is the input from the user\n",
    "\n",
    "len_list = (input(\"Enter the length:\"))\n",
    "cube_list = []\n",
    "for i in range(1,int(len_list)+1):\n",
    "      \n",
    "        cube_list.append(i*i*i)\n",
    "print(cube_list)\n"
   ]
  },
  {
   "cell_type": "code",
   "execution_count": 217,
   "metadata": {},
   "outputs": [
    {
     "ename": "TypeError",
     "evalue": "'str' object is not callable",
     "output_type": "error",
     "traceback": [
      "\u001b[1;31m---------------------------------------------------------------------------\u001b[0m",
      "\u001b[1;31mTypeError\u001b[0m                                 Traceback (most recent call last)",
      "\u001b[1;32mc:\\Users\\debo2\\Downloads\\Additional Python Assignment.ipynb Cell 8\u001b[0m in \u001b[0;36m<cell line: 12>\u001b[1;34m()\u001b[0m\n\u001b[0;32m     <a href='vscode-notebook-cell:/c%3A/Users/debo2/Downloads/Additional%20Python%20Assignment.ipynb#X10sZmlsZQ%3D%3D?line=11'>12</a>\u001b[0m \u001b[39mfor\u001b[39;00m i \u001b[39min\u001b[39;00m \u001b[39mrange\u001b[39m(\u001b[39mint\u001b[39m(list_start),\u001b[39mint\u001b[39m(list_stop)\u001b[39m+\u001b[39m\u001b[39m1\u001b[39m):\n\u001b[0;32m     <a href='vscode-notebook-cell:/c%3A/Users/debo2/Downloads/Additional%20Python%20Assignment.ipynb#X10sZmlsZQ%3D%3D?line=12'>13</a>\u001b[0m         \u001b[39mif\u001b[39;00m i\u001b[39m%\u001b[39m\u001b[39m2\u001b[39m \u001b[39m==\u001b[39m \u001b[39m0\u001b[39m:\n\u001b[1;32m---> <a href='vscode-notebook-cell:/c%3A/Users/debo2/Downloads/Additional%20Python%20Assignment.ipynb#X10sZmlsZQ%3D%3D?line=13'>14</a>\u001b[0m                 even_list\u001b[39m.\u001b[39mappend(\u001b[39mstr\u001b[39;49m(i))\n\u001b[0;32m     <a href='vscode-notebook-cell:/c%3A/Users/debo2/Downloads/Additional%20Python%20Assignment.ipynb#X10sZmlsZQ%3D%3D?line=14'>15</a>\u001b[0m s \u001b[39m=\u001b[39m even_list[ : :\u001b[39m-\u001b[39m\u001b[39m1\u001b[39m]\n\u001b[0;32m     <a href='vscode-notebook-cell:/c%3A/Users/debo2/Downloads/Additional%20Python%20Assignment.ipynb#X10sZmlsZQ%3D%3D?line=15'>16</a>\u001b[0m \u001b[39mprint\u001b[39m(s)\n",
      "\u001b[1;31mTypeError\u001b[0m: 'str' object is not callable"
     ]
    }
   ],
   "source": [
    "#L5 E\n",
    "# WAP to print even numbers in a given range in reverse order. Take the range from the user.\n",
    "\n",
    "# For e.g. Input: start = 3\n",
    "#                 End = 14\n",
    "#         Output: 14, 12, 10, 8, 6, 4\n",
    "\n",
    "\n",
    "list_start = input(\"enter the start:\")\n",
    "list_stop =  input(\"enter the stop:\")\n",
    "even_list = []\n",
    "for i in range(int(list_start),int(list_stop)+1):\n",
    "        if i%2 == 0:\n",
    "                even_list.append(str(i))\n",
    "s = even_list[ : :-1]\n",
    "print(','.join(s))\n",
    "\n"
   ]
  },
  {
   "cell_type": "code",
   "execution_count": 190,
   "metadata": {},
   "outputs": [
    {
     "name": "stdout",
     "output_type": "stream",
     "text": [
      "[13, 11, 9, 7, 5, 3]\n"
     ]
    }
   ],
   "source": [
    "#L6 E\n",
    "# WAP to print odd numbers in a given range in reverse order.\n",
    "# Take the range from the user.\n",
    "\n",
    "# For e.g. Input: start = 3\n",
    "#                 End = 14\n",
    "#         Output: 13, 11, 9, 7, 5, 3\n",
    "\n",
    "list_start = input(\"enter the start:\")\n",
    "list_stop =  input(\"enter the stop:\")\n",
    "odd_list = []\n",
    "for i in range(int(list_start),int(list_stop)+1):\n",
    "        if i%2 != 0:\n",
    "                odd_list.append(i)\n",
    "s = odd_list[ : :-1]\n",
    "print(s)"
   ]
  },
  {
   "cell_type": "code",
   "execution_count": 39,
   "metadata": {},
   "outputs": [
    {
     "name": "stdout",
     "output_type": "stream",
     "text": [
      "5 * 1 = 5\n",
      "5 * 2 = 10\n",
      "5 * 3 = 15\n",
      "5 * 4 = 20\n",
      "5 * 5 = 25\n",
      "5 * 6 = 30\n",
      "5 * 7 = 35\n",
      "5 * 8 = 40\n",
      "5 * 9 = 45\n",
      "5 * 10 = 50\n"
     ]
    }
   ],
   "source": [
    "#L7 E\n",
    "# WAP to print multiplication table of a number taken as input from the user.\n",
    "\n",
    "# For e.g. Input: 5\n",
    "#         Output: 5*1 = 5\n",
    "#                 5*2 = 10\n",
    "#                 .\n",
    "#                 .\n",
    "#                 .\n",
    "#                 5*10 = 50\n",
    "\n",
    "\n",
    "n = int(input(\"Enter the number\"))\n",
    "\n",
    "for i in range(1,11):\n",
    "        print(n,'*',i, '=', n*i)\n"
   ]
  },
  {
   "cell_type": "code",
   "execution_count": 65,
   "metadata": {},
   "outputs": [
    {
     "name": "stdout",
     "output_type": "stream",
     "text": [
      "1 2 3 4\n",
      "1 2 3\n",
      "1 2\n",
      "1\n",
      "[1, 2, 3, 4]\n"
     ]
    }
   ],
   "source": [
    "#L8 E\n",
    "# WAP to print the following pattern.\n",
    "\n",
    "# 1\n",
    "# 1 2\n",
    "# 1 2 3\n",
    "# 1 2 3 4\n",
    "\n",
    "for i in range(1,5):\n",
    "    a =[]\n",
    "    for j in range(1,5-i+1):\n",
    "        a.append(str(j))\n",
    "    print(\" \".join(a))\n",
    "\n",
    "# i =1 j 1 \n",
    "# i=2 j 1 2\n",
    "# i=3 j 1 2 3\n",
    "# i=4 j 1 2 3 4  \n",
    "b=[]\n",
    "for j in range(1,5):\n",
    "    b.append(j)\n",
    "print(b)"
   ]
  },
  {
   "cell_type": "code",
   "execution_count": 218,
   "metadata": {},
   "outputs": [
    {
     "name": "stdout",
     "output_type": "stream",
     "text": [
      "24690\n"
     ]
    }
   ],
   "source": [
    "#L9 H\n",
    "# Write a program to calculate the sum of series up to n terms for a digit d. n & d are taken as input from the user.\n",
    "\n",
    "# For example:\n",
    "#     Input: n = 5, d = 2\n",
    "#     Logic: 2 + 22 + 222 + 2222 + 22222 \n",
    "#     Output: 24690\n",
    "\n",
    "n = int(input(\"enter n\"))\n",
    "d = input(\"enter d\")\n",
    "sum=0\n",
    "for i in range(1,n+1):\n",
    "    sum += int(d*i)\n",
    "    \n",
    "print(sum)\n",
    "\n"
   ]
  },
  {
   "cell_type": "code",
   "execution_count": 235,
   "metadata": {},
   "outputs": [
    {
     "name": "stdout",
     "output_type": "stream",
     "text": [
      "24\n",
      "4.8\n"
     ]
    }
   ],
   "source": [
    "#L10 M\n",
    "# WAP that keeps on accepting numbers from the user until the user enters Zero(0) as input.\n",
    "# Display the sum and average of all the numbers.\n",
    "\n",
    "# For example:\n",
    "#     Input: 3, 6, 8, 2, 5, Stop\n",
    "#     Output: Sum = 24\n",
    "#             Average = 4.8\n",
    "s = 0\n",
    "count = 0\n",
    "while True:\n",
    "    num = int(input(\"Enter the no.\"))\n",
    "    if num == 0:\n",
    "        break\n",
    "    else:\n",
    "        s += num\n",
    "        for i in range(0,num):\n",
    "            \n",
    "            avg = s/(num)\n",
    "print(s)\n",
    "print(avg)\n",
    "\n",
    "\n",
    "\n"
   ]
  },
  {
   "cell_type": "code",
   "execution_count": 286,
   "metadata": {},
   "outputs": [
    {
     "name": "stdout",
     "output_type": "stream",
     "text": [
      "4.0\n"
     ]
    }
   ],
   "source": [
    "#L11 E\n",
    "# Accept n numbers from the user and display their average. n is input from the user.\n",
    "\n",
    "# For example:\n",
    "#     Input: n = 5\n",
    "#         Numbers = 3, 6, 2, 9, 0\n",
    "#     Output: Average = 4.0\n",
    "\n",
    "n = int(input(\"enter the nos\"))\n",
    "s = 0\n",
    "for i in range(0,n):\n",
    "    numbers = int(input(\"enter the elements\"))\n",
    "    s += numbers\n",
    "avg = s/n\n",
    "print(avg)"
   ]
  },
  {
   "cell_type": "code",
   "execution_count": null,
   "metadata": {},
   "outputs": [],
   "source": []
  },
  {
   "cell_type": "code",
   "execution_count": null,
   "metadata": {},
   "outputs": [],
   "source": []
  },
  {
   "cell_type": "code",
   "execution_count": null,
   "metadata": {},
   "outputs": [],
   "source": []
  },
  {
   "cell_type": "markdown",
   "metadata": {},
   "source": [
    "### String Questions"
   ]
  },
  {
   "cell_type": "code",
   "execution_count": 285,
   "metadata": {},
   "outputs": [
    {
     "name": "stdout",
     "output_type": "stream",
     "text": [
      "{'p': 1, 'y': 1, 't': 2, 'h': 1, 'o': 1, 'n': 1, ' ': 2, 'i': 1, 's': 1, 'g': 1, 'r': 1, 'e': 1, 'a': 1}\n"
     ]
    }
   ],
   "source": [
    "#S1 E\n",
    "# Write a Python program to count the number of each of the characters (character frequency) \n",
    "#    in a string input by the user. Ignore the case.\n",
    "#    For example: Input: \"Python is great\"\n",
    "# \t\tOutput: P = 1, y = 1, t = 2, and so on...\n",
    "\n",
    "inp = input(\"Enter the string\")\n",
    "count = {}\n",
    "for i in inp:\n",
    "   if i in count:\n",
    "      count[i] += 1\n",
    "   else:\n",
    "      count[i] = 1\n",
    "print(count)"
   ]
  },
  {
   "cell_type": "code",
   "execution_count": 289,
   "metadata": {},
   "outputs": [
    {
     "name": "stdout",
     "output_type": "stream",
     "text": [
      "0167\n"
     ]
    }
   ],
   "source": [
    "#S2 M\n",
    "# Write a Python program to find the digits which are absent in a given mobile number.\n",
    "\n",
    "#    For example: Input : 9354328855\n",
    "#                 Output: 0167\n",
    "\n",
    "mno = \"9354328855\"\n",
    "no = \"0123456789\"\n",
    "\n",
    "for i in mno:\n",
    "      no = no.replace(i, \"\")\n",
    "print(no)\n",
    "\n",
    "      \n",
    "\n"
   ]
  },
  {
   "cell_type": "code",
   "execution_count": null,
   "metadata": {},
   "outputs": [],
   "source": [
    "#S3 M\n",
    "WAP in python to find average of n numbers taken as input from the user dynamically."
   ]
  },
  {
   "cell_type": "code",
   "execution_count": 146,
   "metadata": {},
   "outputs": [
    {
     "name": "stdout",
     "output_type": "stream",
     "text": [
      "['h', 'n', 'o', 'p', 't', 'y']\n"
     ]
    }
   ],
   "source": [
    "#S4 E\n",
    "# WAP in python that accepts a hyphen-separated sequence of \n",
    "# words as input and prints the words in a hyphen-separated \n",
    "# sequence after sorting them alphabetically.\n",
    "\n",
    "# For e.g. Input: \"p-y-t-h-o-n\"\n",
    "#         Output: ['h', 'n','o', 'p', 't', 'y']\n",
    "\n",
    "inp = \"p-y-t-h-o-n\"\n",
    "a = inp.split(\"-\")\n",
    "for i in range(0,len(a)-1):\n",
    "        for j in range(i+1, len(a)):\n",
    "                if (a[i] > a[j]):\n",
    "                        a[i], a[j] = a[j], a[i]\n",
    "        \n",
    "print(a)\n",
    "        \n",
    "\n",
    "       \n",
    "\n",
    "\n"
   ]
  },
  {
   "cell_type": "code",
   "execution_count": 152,
   "metadata": {},
   "outputs": [
    {
     "name": "stdout",
     "output_type": "stream",
     "text": [
      "1\n",
      "5\n",
      "3\n",
      "1\n",
      "1\n"
     ]
    }
   ],
   "source": [
    "#S5 MH\n",
    "# WAP in python to find the number of vowels, consonants, digits, special \n",
    "# characters and white space characters in a string input by the user.\n",
    "\n",
    "# Example: Input: \"Qwerty@123\"\n",
    "# \toutput: v = 1, c = 5, d = 3, w = 0, s = 1\n",
    "\n",
    "Input = \"Qwerty @123\"\n",
    "v = 0\n",
    "c= 0\n",
    "d = 0\n",
    "w = 0\n",
    "s = 0\n",
    "\n",
    "for i in range(0,len(Input)):\n",
    "\tif((Input[i]>= \"a\" and Input[i]<= \"z\") or (Input[i]>= \"A\" and Input[i]<= \"Z\")):\n",
    "\t\tif(Input[i] =='a' or Input[i] == 'e' or Input[i] == 'i' or Input[i] == 'o' or Input[i] == 'u'):\n",
    "\t\t\tv = v+1\n",
    "\t\telse:\n",
    "\t\t\tc = c+1\n",
    "\telif (Input[i] >= '0' and Input[i] <= '9'):\n",
    "\t\td= d+1\t\n",
    "\telif Input[i].isspace():\n",
    "\t\tw +=1\n",
    "\telse:\n",
    "\t\ts=s+1\n",
    "\n",
    "\t\t\n",
    "print(v)\n",
    "print(c)\n",
    "print(d)\n",
    "print(s)\n",
    "print(w)\n",
    "\n",
    "\t\t\n",
    "\n"
   ]
  },
  {
   "cell_type": "code",
   "execution_count": 276,
   "metadata": {},
   "outputs": [
    {
     "name": "stdout",
     "output_type": "stream",
     "text": [
      "3\n"
     ]
    }
   ],
   "source": [
    "#S6 MH\n",
    "# WAP in python to check the strength of the password input by the user based on the following features.\n",
    "#     Length minimum of 8 characters  (+1 Strength)\n",
    "#     Combination of upper case & lower case characters (+1 Strength)\n",
    "#     Combination of alphabets & digits (+1 Strength)\n",
    "#     Use of Special Characters (+1 Strength)\n",
    "    \n",
    "# Example: Input: \"Qwerty@123\"\n",
    "#         Output: Strength = 4\n",
    "\n",
    "pwd1= \"erty@1A\"\n",
    "strength = 0\n",
    "if len(pwd1) > 7: #Length minimum of 8 characters  (+1 Strength)\n",
    "    strength += 1\n",
    "\n",
    "if not pwd1.isalnum(): #Use of Special Characters (+1 Strength)\n",
    "    strength +=1\n",
    "\n",
    "lower_flag = False\n",
    "upper_flag = False\n",
    "digit_flag = False    \n",
    "\n",
    "for i in pwd1:\n",
    "    if i.islower():\n",
    "        lower_flag = True\n",
    "    if i.isupper():\n",
    "        upper_flag = True\n",
    "    if i.isdigit():\n",
    "        digit_flag = True\n",
    "if lower_flag and upper_flag:\n",
    "    strength += 1     #Combination of upper case & lower case characters (+1 Strength)\n",
    "\n",
    "if digit_flag and (lower_flag or upper_flag):\n",
    "    strength += 1    #Combination of alphabets & digits (+1 Strength)\n",
    "    \n",
    "\n",
    "print(strength)\n"
   ]
  },
  {
   "cell_type": "code",
   "execution_count": 120,
   "metadata": {},
   "outputs": [
    {
     "name": "stdout",
     "output_type": "stream",
     "text": [
      "Strings are same\n"
     ]
    }
   ],
   "source": [
    "#S7 E\n",
    "# WAP in python to compare two strings and tell the user if both of those strings are same or not. \n",
    "# Ignore their case.\n",
    "\n",
    "# Example: Input String1: \"Hello\"\n",
    "# \tInput String2: \"hello\"\n",
    "# \tOutput: Strings are same\n",
    "\n",
    "String1= \"Hello\"\n",
    "String2= \"hello\"\n",
    "if String1.lower() == String2.lower():\n",
    "\tprint(\"Strings are same\")"
   ]
  },
  {
   "cell_type": "code",
   "execution_count": 127,
   "metadata": {},
   "outputs": [
    {
     "name": "stdout",
     "output_type": "stream",
     "text": [
      "2\n"
     ]
    }
   ],
   "source": [
    "#S8 E\n",
    "# WAP in python to calculate the number of times a character is repeated in a given string.\n",
    "# Take the string and character from the user.\n",
    "\n",
    "# Example: Input String: \"Neil Nitin Mukesh\"\n",
    "#         Input Character: \"e\"\n",
    "#         Output: 2\n",
    "\n",
    "string= input(\"Enter the string\")\n",
    "char = input(\"Enter the character\")\n",
    "c = 0\n",
    "for i in range(0, len(string)-1):\n",
    "        if(char in string[i]):\n",
    "                c+=1\n",
    "print(c)\n",
    "\n",
    "\n"
   ]
  },
  {
   "cell_type": "code",
   "execution_count": 282,
   "metadata": {},
   "outputs": [
    {
     "name": "stdout",
     "output_type": "stream",
     "text": [
      "to\n"
     ]
    }
   ],
   "source": [
    "#S9 E\n",
    "# WAP in python which accepts string from the user and displays only those characters/elements which are present at an even index.\n",
    "\n",
    "# Example: \n",
    "#     Input: \"Python\"\n",
    "#     Output: Pto\n",
    "\n",
    "\n",
    "name = input(\"Enter the string\")\n",
    "op = \"\"\n",
    "for i in range(0, len(name)):\n",
    "    if i%2 == 0 and i!=0:\n",
    "        op += name[i]\n",
    "print(op)\n",
    "    \n"
   ]
  },
  {
   "cell_type": "code",
   "execution_count": 291,
   "metadata": {},
   "outputs": [
    {
     "name": "stdout",
     "output_type": "stream",
     "text": [
      "Avi Shetty\n"
     ]
    }
   ],
   "source": [
    "#S10 E\n",
    "# WAP in python to capitalize the first letter of the First Name and Surname where whole name is taken as input from the user.\n",
    "\n",
    "# Example: Input: \"first last\" or \"FIRST LAST\" or \"first lAst\" i.e. Input can be in any case.\n",
    "#         Output: \"First Last\"\n",
    "\n",
    "name1 = input(\"enter the name\")\n",
    "print(name1.title())"
   ]
  },
  {
   "cell_type": "code",
   "execution_count": 299,
   "metadata": {},
   "outputs": [
    {
     "name": "stdout",
     "output_type": "stream",
     "text": [
      "['black', 'green', 'red', 'red', 'white']\n"
     ]
    }
   ],
   "source": [
    "#S11 EM\n",
    "# Write a Python program that accepts a comma separated sequence of words as input and \n",
    "# prints the unique words in sorted form (alphanumerically).\n",
    "\n",
    "# \tSample Words : red, white, black, red, green    \n",
    "# \tExpected Result : black, green, red, red, white\n",
    "\n",
    "w = \"red\", \"white\", \"black\", \"red\", \"green\"\n",
    "a = sorted(w)\n",
    "print(a)"
   ]
  },
  {
   "cell_type": "code",
   "execution_count": 313,
   "metadata": {},
   "outputs": [
    {
     "name": "stdout",
     "output_type": "stream",
     "text": [
      "{}\n"
     ]
    }
   ],
   "source": [
    "# #S12 MH\n",
    "# Write a Python program to count repeated characters in a string.\n",
    "\n",
    "# \tSample string: 'thequickbrownfoxjumpsoverthelazydog'\n",
    "# \tExpected output :\n",
    "# \t\t\to 4\n",
    "# \t\t\te 3\n",
    "# \t\t\tu 2\n",
    "# \t\t\th 2\n",
    "# \t\t\tr 2\n",
    "# \t\t\tt 2\n",
    "\n",
    "str2 = 'thequickbrownfoxjumpsoverthelazydog'\n",
    "count = {}\n",
    "for i in str2:\n",
    "    if i in count:\n",
    "        count\n",
    "print(count)\n",
    "\t"
   ]
  },
  {
   "cell_type": "code",
   "execution_count": null,
   "metadata": {},
   "outputs": [],
   "source": []
  },
  {
   "cell_type": "code",
   "execution_count": null,
   "metadata": {},
   "outputs": [],
   "source": []
  },
  {
   "cell_type": "code",
   "execution_count": null,
   "metadata": {},
   "outputs": [],
   "source": []
  },
  {
   "cell_type": "markdown",
   "metadata": {},
   "source": [
    "### List Questions"
   ]
  },
  {
   "cell_type": "code",
   "execution_count": 319,
   "metadata": {},
   "outputs": [
    {
     "name": "stdout",
     "output_type": "stream",
     "text": [
      "['my', 'name', 'is', 'Debo', '.']\n"
     ]
    }
   ],
   "source": [
    "# #Li1 M\n",
    "# WAP to remove empty strings from the list of strings. Take list as input from the user.\n",
    "\n",
    "# For example: Input: [\"My\", \"name\", \"\", \"is\", \"\", \"Alankrita\", \"\", \".\"]\n",
    "#             Output: [\"My\", \"name\", \"is\", \"Alankrita\", \".\"]\n",
    "\n",
    "lst =[]\n",
    "n = int(input(\"Enter the no of elements\"))\n",
    "for i in range(0,n):\n",
    "    list1 = input(\"enter the list\")\n",
    "    lst.append(list1)\n",
    "    if \"\" in lst:\n",
    "        lst.remove(\"\")\n",
    "               \n",
    "print(lst)\n"
   ]
  },
  {
   "cell_type": "code",
   "execution_count": 387,
   "metadata": {},
   "outputs": [
    {
     "name": "stdout",
     "output_type": "stream",
     "text": [
      "Invalid character\n"
     ]
    }
   ],
   "source": [
    "# #Li2 H\n",
    "# WAP to make a list of all the characters starting from character 'A' to input charaacter from the user.\n",
    "\n",
    "# For e.g. Input: 'H'\n",
    "#         Output: [\"A\", \"B\", \"C\", \"D\", \"E\", \"F\", \"G\", \"H\"]\n",
    "\n",
    "input_char = input(\"enter the character\")\n",
    "list_char = []\n",
    "if (input_char >= 'A' and input_char <='Z'):\n",
    "    for i in range(ord('A'),ord(input_char)+1):\n",
    "        list_char.append(chr(i))\n",
    "    print(list_char)\n",
    "else:\n",
    "    print(\"Invalid character\")"
   ]
  },
  {
   "cell_type": "code",
   "execution_count": 326,
   "metadata": {},
   "outputs": [
    {
     "name": "stdout",
     "output_type": "stream",
     "text": [
      "Employee is not present\n"
     ]
    }
   ],
   "source": [
    "# #Li3 H\n",
    "# WAP to check if a specific employee e is present in a company or not. Employee names are saved in a list.\n",
    "# e is taken as input from the user.\n",
    "\n",
    "# For example: empList = [\"Ashwin\", \"Rachit\", \"Sanjana\", \"David\", \"Komal\"]\n",
    "#             Input1: \"Komal\"\n",
    "#             Output1: \"Employee is present\"\n",
    "            \n",
    "#             Input2: \"Nitish\"\n",
    "#             Output2: \"Employee is not present\"\n",
    "\n",
    "empList = [\"Ashwin\", \"Rachit\", \"Sanjana\", \"David\", \"Komal\"]\n",
    "emp1 = input(\"enter the emp\")\n",
    "if emp1 in empList:\n",
    "        print(\"Employee is present\")\n",
    "else:\n",
    "        print(\"Employee is not present\")"
   ]
  },
  {
   "cell_type": "code",
   "execution_count": 388,
   "metadata": {},
   "outputs": [
    {
     "name": "stdout",
     "output_type": "stream",
     "text": [
      "Max Number: 90 , Index of Max Number: 3\n",
      "Min Number: 12 , Index of Min Number: 4\n"
     ]
    }
   ],
   "source": [
    "# #Li4 M\n",
    "# Write a python program to find the maximum and minimum number in a list of 10 elements \n",
    "#    (taken as input from the user) and also find the index position of the these numbers.\n",
    "    \n",
    "#    For example: Input : [25, 2, 1, 86, 42, 32, 27, 12, 31, 10]\n",
    "# \t\tOutput: Max Number: 86, Index of Max Number: 3\n",
    "# \t\t\tMin Number: 1, Index of Min Number: 2\n",
    "\n",
    "lst = []\n",
    "n = int(input(\"enter the no of elements\"))\n",
    "\n",
    "for i in range(0,n):\n",
    "   list2 = input(\"enter the elements\")\n",
    "   lst.append(list2)\n",
    "   \n",
    "lstmax = max(lst)\n",
    "lstmin = min(lst) \n",
    "maxindex = lst.index(lstmax)  \n",
    "minindex = lst.index(lstmin)\n",
    "print(\"Max Number:\", lstmax,  \", Index of Max Number:\", maxindex)\n",
    "print(\"Min Number:\", lstmin,  \", Index of Min Number:\", minindex)\n"
   ]
  },
  {
   "cell_type": "code",
   "execution_count": 391,
   "metadata": {},
   "outputs": [
    {
     "name": "stdout",
     "output_type": "stream",
     "text": [
      "10 400\n",
      "20 300\n",
      "30 200\n",
      "40 100\n"
     ]
    }
   ],
   "source": [
    "#Li5 M\n",
    "# Given two Python lists of same length. Iterate both lists simultaneously such that list1 \n",
    "#    should display item in original order and list2 in reverse order.\n",
    "    \n",
    "#    For example: Input = list1 = [10, 20, 30, 40]\n",
    "# \t\t\tlist2 = [100, 200, 300, 400]\n",
    "#             Output: 10 400\n",
    "#                     20 300\n",
    "#                     30 200\n",
    "#                     40 100\n",
    "\n",
    "list1 = [10, 20, 30, 40]\n",
    "list2 = [100, 200, 300, 400]\n",
    "list2 = list2[::-1]\n",
    "for (i,j) in zip(list1, list2):\n",
    "    print(i,j)\n",
    "    \n",
    "     "
   ]
  },
  {
   "cell_type": "code",
   "execution_count": 367,
   "metadata": {},
   "outputs": [
    {
     "name": "stdout",
     "output_type": "stream",
     "text": [
      "['My', 'name', 'is', 'Ashutosh']\n"
     ]
    }
   ],
   "source": [
    "# #Li6 M\n",
    "# WAP to concatenate two lists index-wise.\n",
    "#     list1 = [\"M\", \"na\", \"i\", \"Ashu\"]\n",
    "#     list2 = [\"y\", \"me\", \"s\", \"tosh\"]\n",
    "#     Output: ['My', 'name', 'is', 'Ashutosh']\n",
    "\n",
    "list1 = [\"M\", \"na\", \"i\", \"Ashu\"]\n",
    "list2 = [\"y\", \"me\", \"s\", \"tosh\"]\n",
    "op = []\n",
    "for i,j in zip(list1, list2):\n",
    "    op.append(i+j)\n",
    "print(op)"
   ]
  },
  {
   "cell_type": "code",
   "execution_count": 394,
   "metadata": {},
   "outputs": [
    {
     "name": "stdout",
     "output_type": "stream",
     "text": [
      "['1', 'name', 'Hi', 'Deb']\n"
     ]
    }
   ],
   "source": [
    "# #Li7 M\n",
    "# WAP to remove/delete items from a list while iterating without creating a duplicate list.\n",
    "# Take the elements to be deleted from the user in real-time.\n",
    "\n",
    "user_list = [\"1\",\"name\", \"Hi\",\"Deb\", \"3\"]\n",
    "del_element = input(\"Enter the element to be deleted\")\n",
    "if del_element in user_list:\n",
    "    user_list.remove(del_element)\n",
    "    print(user_list)\n",
    "else:\n",
    "    print(\"Element not found\")\n"
   ]
  },
  {
   "cell_type": "code",
   "execution_count": 400,
   "metadata": {},
   "outputs": [
    {
     "name": "stdout",
     "output_type": "stream",
     "text": [
      "[3, 5, 7, 11, 13, 17]\n"
     ]
    }
   ],
   "source": [
    "# #Li8 E\n",
    "# WAP to generate a Python list of all the prime numbers between n to m where n & m are taken as input from the user.\n",
    "\n",
    "n = int(input(\"enter start number\"))\n",
    "m = int(input(\"enter the last number\"))\n",
    "primeList =[]\n",
    "for num in range(n,m):\n",
    "    if num>1:\n",
    "        for i in range(2,num):\n",
    "            if num%i == 0:\n",
    "                break\n",
    "        else:\n",
    "            primeList.append(num)\n",
    "print(primeList)\n",
    "    \n"
   ]
  },
  {
   "cell_type": "code",
   "execution_count": 404,
   "metadata": {},
   "outputs": [
    {
     "name": "stdout",
     "output_type": "stream",
     "text": [
      "['Hello  Hi', 'Hello  There', 'World Hi', 'World There']\n"
     ]
    }
   ],
   "source": [
    "#Li9 M\n",
    "# WAP to concatenate two lists in the following order:\n",
    "#     list1 = [\"Hello \", \"World\"]\n",
    "#     list2 = [\"Hi\", \"There\"]\n",
    "#     Output: ['Hello Hi', 'Hello There', 'World Hi', 'World There']\n",
    "\n",
    "list1 = [\"Hello \", \"World\"]\n",
    "list2 = [\"Hi\", \"There\"]\n",
    "op = []\n",
    "for i in list1:\n",
    "    for j in list2:\n",
    "        op.append(i+\" \"+j)\n",
    "print(op)\n",
    "\n",
    "\n"
   ]
  },
  {
   "cell_type": "code",
   "execution_count": 407,
   "metadata": {},
   "outputs": [
    {
     "name": "stdout",
     "output_type": "stream",
     "text": [
      "element not in the list\n"
     ]
    }
   ],
   "source": [
    "# # Li10 M\n",
    "# Given two lists having names of students and their corresponding marks.\n",
    "# names = [\"Ashutosh\", \"Ajay\", \"Alankrita\", \"Rachit\", \"Komal\", \"Anil\"]\n",
    "# marks = [23, 21, 26, 23, 27, 24]\n",
    "# Take name of a student as input from the user and output his/her marks.\n",
    "\n",
    "# For e.g.:\n",
    "#     Input1: \"Alankrita\"\n",
    "#     Output1: 26\n",
    "        \n",
    "#     Input2: \"Someone\"\n",
    "#     Output2: \"Student not found\"\n",
    "\n",
    "names = [\"Ashutosh\", \"Ajay\", \"Alankrita\", \"Rachit\", \"Komal\", \"Anil\"]\n",
    "marks = [23, 21, 26, 23, 27, 24]\n",
    "name_input = input(\"Enter the name\")\n",
    "\n",
    "if name_input in names:\n",
    "    index_name = names.index(name_input)\n",
    "    print(marks[index_name])\n",
    "else:\n",
    "    print(\"element not in the list\")\n",
    "\n",
    "        \n",
    "\n"
   ]
  },
  {
   "cell_type": "code",
   "execution_count": null,
   "metadata": {},
   "outputs": [],
   "source": [
    "# #Li11 H\n",
    "# Extended question of #Li10\n",
    "# Add an option to change marks of any students in the same code of #Li10. Take student name and new marks from the user. \n",
    "# Print the modified list as output.\n",
    "\n",
    "# For e.g.: Input: \"Ajay\"\n",
    "#         new_mark: 25\n",
    "#         Output: marks = [23, 25, 26, 23, 27, 24]\n",
    "\n",
    "\n",
    "\n",
    "\n"
   ]
  },
  {
   "cell_type": "code",
   "execution_count": null,
   "metadata": {},
   "outputs": [],
   "source": [
    "#Li12 H\n",
    "Extended question of #Li10\n",
    "Give an option to enter the marks of a new student into the existing lists names and marks. Take new data as input from user.\n",
    "Print the new names and marks list as output.\n",
    "\n",
    "For e.g.: Input: New_name = \"Nitish\"\n",
    "                new_Marks = 20\n",
    "        Output: names = [\"Ashutosh\", \"Ajay\", \"Alankrita\", \"Rachit\", \"Komal\", \"Anil\", \"Nitish\"]\n",
    "                marks = [23, 21, 26, 23, 27, 24, 20]"
   ]
  },
  {
   "cell_type": "code",
   "execution_count": null,
   "metadata": {},
   "outputs": [],
   "source": []
  },
  {
   "cell_type": "code",
   "execution_count": null,
   "metadata": {},
   "outputs": [],
   "source": []
  },
  {
   "cell_type": "markdown",
   "metadata": {},
   "source": [
    "### Dictionary Questions"
   ]
  },
  {
   "cell_type": "code",
   "execution_count": 378,
   "metadata": {},
   "outputs": [
    {
     "ename": "TypeError",
     "evalue": "'str' object is not callable",
     "output_type": "error",
     "traceback": [
      "\u001b[1;31m---------------------------------------------------------------------------\u001b[0m",
      "\u001b[1;31mTypeError\u001b[0m                                 Traceback (most recent call last)",
      "\u001b[1;32mc:\\Users\\debo2\\Downloads\\Additional Python Assignment.ipynb Cell 50\u001b[0m in \u001b[0;36m<cell line: 7>\u001b[1;34m()\u001b[0m\n\u001b[0;32m      <a href='vscode-notebook-cell:/c%3A/Users/debo2/Downloads/Additional%20Python%20Assignment.ipynb#Y100sZmlsZQ%3D%3D?line=0'>1</a>\u001b[0m \u001b[39m#D1\u001b[39;00m\n\u001b[0;32m      <a href='vscode-notebook-cell:/c%3A/Users/debo2/Downloads/Additional%20Python%20Assignment.ipynb#Y100sZmlsZQ%3D%3D?line=1'>2</a>\u001b[0m \u001b[39m# WAP in Python to merge following dictionaries to create a new one:\u001b[39;00m\n\u001b[0;32m      <a href='vscode-notebook-cell:/c%3A/Users/debo2/Downloads/Additional%20Python%20Assignment.ipynb#Y100sZmlsZQ%3D%3D?line=2'>3</a>\u001b[0m \u001b[39m# \tdic1={1:10, 2:20}\u001b[39;00m\n\u001b[0;32m      <a href='vscode-notebook-cell:/c%3A/Users/debo2/Downloads/Additional%20Python%20Assignment.ipynb#Y100sZmlsZQ%3D%3D?line=3'>4</a>\u001b[0m \u001b[39m# \tdic2={3:30, 4:40}\u001b[39;00m\n\u001b[0;32m      <a href='vscode-notebook-cell:/c%3A/Users/debo2/Downloads/Additional%20Python%20Assignment.ipynb#Y100sZmlsZQ%3D%3D?line=4'>5</a>\u001b[0m \u001b[39m# \tdic3={5:50, 6:60}\u001b[39;00m\n\u001b[1;32m----> <a href='vscode-notebook-cell:/c%3A/Users/debo2/Downloads/Additional%20Python%20Assignment.ipynb#Y100sZmlsZQ%3D%3D?line=6'>7</a>\u001b[0m dic1\u001b[39m=\u001b[39m\u001b[39mstr\u001b[39;49m({\u001b[39m1\u001b[39;49m:\u001b[39m10\u001b[39;49m, \u001b[39m2\u001b[39;49m:\u001b[39m20\u001b[39;49m})\n\u001b[0;32m      <a href='vscode-notebook-cell:/c%3A/Users/debo2/Downloads/Additional%20Python%20Assignment.ipynb#Y100sZmlsZQ%3D%3D?line=7'>8</a>\u001b[0m dic2\u001b[39m=\u001b[39m\u001b[39mstr\u001b[39m({\u001b[39m3\u001b[39m:\u001b[39m30\u001b[39m, \u001b[39m4\u001b[39m:\u001b[39m40\u001b[39m})\n\u001b[0;32m      <a href='vscode-notebook-cell:/c%3A/Users/debo2/Downloads/Additional%20Python%20Assignment.ipynb#Y100sZmlsZQ%3D%3D?line=8'>9</a>\u001b[0m dic3\u001b[39m=\u001b[39m\u001b[39mstr\u001b[39m({\u001b[39m5\u001b[39m:\u001b[39m50\u001b[39m, \u001b[39m6\u001b[39m:\u001b[39m60\u001b[39m})\n",
      "\u001b[1;31mTypeError\u001b[0m: 'str' object is not callable"
     ]
    }
   ],
   "source": [
    "#D1\n",
    "# WAP in Python to merge following dictionaries to create a new one:\n",
    "# \tdic1={1:10, 2:20}\n",
    "# \tdic2={3:30, 4:40}\n",
    "# \tdic3={5:50, 6:60}\n",
    "\n",
    "dic1=str({1:10, 2:20})\n",
    "dic2=str({3:30, 4:40})\n",
    "dic3=str({5:50, 6:60})\n",
    "print(**dic1,**dic2,**dic3)"
   ]
  },
  {
   "cell_type": "code",
   "execution_count": null,
   "metadata": {},
   "outputs": [],
   "source": [
    "#D2\n",
    "WAP in python to generate and print a dictionary that contains a number (between 1 and n) \n",
    "in the form {x : x*x} where n is the input from the user.\n",
    "\n",
    "For e.g. Input: 4\n",
    "        Output: {1:1, 2:4, 3:9, 4:16}"
   ]
  },
  {
   "cell_type": "code",
   "execution_count": null,
   "metadata": {},
   "outputs": [],
   "source": [
    "#D3\n",
    "WAP in python to find the number of vowels, consonants, digits, white space characters & \n",
    "special characters in a string and save the result in the form of a dictionary."
   ]
  },
  {
   "cell_type": "code",
   "execution_count": null,
   "metadata": {},
   "outputs": [],
   "source": [
    "#D4\n",
    "WAP to reverse map the dictionary items. Take dictionary as input from the user.\n",
    "\n",
    "\tFor eg., Input: d = {'A': 65, 'B': 66, 'C': 67, 'D': 68}\n",
    "            Output: d = {65: 'A', 66: 'B', 67: 'C', 68: 'D'}"
   ]
  },
  {
   "cell_type": "code",
   "execution_count": null,
   "metadata": {},
   "outputs": [],
   "source": [
    "#D5\n",
    "WAP to save Username and Password of 10 employees in an organisation. \n",
    "Take the Username and Password as input from the user one by one and save in the Dictionary."
   ]
  },
  {
   "cell_type": "code",
   "execution_count": null,
   "metadata": {},
   "outputs": [],
   "source": [
    "#D6\n",
    "Extended Question from #D5\n",
    "Write an additional functionality to check if an employee is present in the organisation or not.\n",
    "Basically \"Search\" Functionality based on their username\n",
    "Take employee name as input from the user.\n",
    "If the employee is present, print \"Present\" else print \"Not Present\""
   ]
  },
  {
   "cell_type": "code",
   "execution_count": null,
   "metadata": {},
   "outputs": [],
   "source": []
  },
  {
   "cell_type": "markdown",
   "metadata": {},
   "source": [
    "### Misc. Questions - i.e. you can use any data type which seems feasible for question"
   ]
  },
  {
   "cell_type": "code",
   "execution_count": null,
   "metadata": {},
   "outputs": [],
   "source": [
    "#M1\n",
    "WAP in python that accepts two integers (n) & (m) from user and \n",
    "computes the value of 2n3 + 5m2 - 7n + 10"
   ]
  },
  {
   "cell_type": "code",
   "execution_count": null,
   "metadata": {},
   "outputs": [],
   "source": [
    "#M2\n",
    "Write a python program to find the intersection of elements from two list \n",
    "(find the common elements in two lists)."
   ]
  },
  {
   "cell_type": "code",
   "execution_count": null,
   "metadata": {},
   "outputs": [],
   "source": [
    "#M3\n",
    "WAP in Python to find the Max of n numbers all taken as input from the user."
   ]
  },
  {
   "cell_type": "code",
   "execution_count": null,
   "metadata": {},
   "outputs": [],
   "source": [
    "#M4\n",
    "WAP which takes a sequence of numbers from the user and check if all input numbers are unique."
   ]
  },
  {
   "cell_type": "code",
   "execution_count": null,
   "metadata": {},
   "outputs": [],
   "source": [
    "#M5\n",
    "WAP to reverse a given integer number.\n",
    "Example: Input: 105320\n",
    "        Output: 023501"
   ]
  },
  {
   "cell_type": "code",
   "execution_count": null,
   "metadata": {},
   "outputs": [],
   "source": [
    "#M6\n",
    "WAP to take 10 integer inputs from the user and save them in a list. \n",
    "The inputs have to be mix of even and odd numbers. \n",
    "Now make one list to save all the even numbers from the input list. \n",
    "Make another list for odd numbers too."
   ]
  },
  {
   "cell_type": "code",
   "execution_count": null,
   "metadata": {},
   "outputs": [],
   "source": [
    "#M7\n",
    "WAP to convert temperature in Fahrenheit to Celsius. Take the temperature from the user in float type."
   ]
  },
  {
   "cell_type": "code",
   "execution_count": null,
   "metadata": {},
   "outputs": [],
   "source": [
    "#M8\n",
    "WAP to continuously take Names as input from the user. \n",
    "Save the incoming names into a list as Full Name and save {First Name:Second Name} in a dictionary.\n",
    "Take inputs till the user enters \"Stop\"\n",
    "\n",
    "For e.g.: Input: \"Shahrukh Khan\", \"Gauri Khan\",...................\"Stop\"\n",
    "         Output: list1 = [\"Shahrukh Khan\", \"Gauri Khan\",....................]\n",
    "                dict1 = {\"Shahrukh\":\"Khan\", \"Gauri\":\"Khan\", .....................}"
   ]
  },
  {
   "cell_type": "code",
   "execution_count": null,
   "metadata": {},
   "outputs": [],
   "source": [
    "#M9\n",
    "WAP to make a simple and compound interest calculator. Take all the necessary data as input from the user."
   ]
  },
  {
   "cell_type": "code",
   "execution_count": null,
   "metadata": {},
   "outputs": [],
   "source": [
    "#M10\n"
   ]
  },
  {
   "cell_type": "code",
   "execution_count": null,
   "metadata": {},
   "outputs": [],
   "source": []
  },
  {
   "cell_type": "code",
   "execution_count": null,
   "metadata": {},
   "outputs": [],
   "source": []
  },
  {
   "cell_type": "code",
   "execution_count": null,
   "metadata": {},
   "outputs": [],
   "source": []
  }
 ],
 "metadata": {
  "kernelspec": {
   "display_name": "Python 3",
   "language": "python",
   "name": "python3"
  },
  "language_info": {
   "codemirror_mode": {
    "name": "ipython",
    "version": 3
   },
   "file_extension": ".py",
   "mimetype": "text/x-python",
   "name": "python",
   "nbconvert_exporter": "python",
   "pygments_lexer": "ipython3",
   "version": "3.8.3"
  }
 },
 "nbformat": 4,
 "nbformat_minor": 5
}
